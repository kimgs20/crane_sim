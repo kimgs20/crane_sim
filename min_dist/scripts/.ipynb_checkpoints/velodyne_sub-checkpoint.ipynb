{
 "cells": [
  {
   "cell_type": "code",
   "execution_count": null,
   "metadata": {},
   "outputs": [],
   "source": [
    "import numpy as np\n",
    "import rospy\n",
    "\n",
    "from sensor_msgs.msg import PointCloud2"
   ]
  },
  {
   "cell_type": "code",
   "execution_count": null,
   "metadata": {},
   "outputs": [],
   "source": [
    "point_cloud_data = None"
   ]
  },
  {
   "cell_type": "code",
   "execution_count": null,
   "metadata": {},
   "outputs": [],
   "source": [
    "def velodyne_callback(data):\n",
    "    global point_cloud_data\n",
    "    # print(data)\n",
    "    point_cloud_data = data"
   ]
  },
  {
   "cell_type": "code",
   "execution_count": null,
   "metadata": {},
   "outputs": [],
   "source": [
    "rospy.init_node('sample', anonymous=True)\n",
    "\n",
    "velodyne_sub = rospy.Subscriber('/velodyne_points', PointCloud2, velodyne_callback, queue_size=1)"
   ]
  },
  {
   "cell_type": "code",
   "execution_count": null,
   "metadata": {},
   "outputs": [],
   "source": [
    "from sensor_msgs import point_cloud2\n",
    "gen = point_cloud2.read_points(point_cloud_data, field_names=(\"x\", \"y\", \"z\"), skip_nans=True)\n",
    "x = np.array([])\n",
    "y = np.array([])\n",
    "z = np.array([])\n",
    "for p in gen:\n",
    "    print(\" x : %.3f  y: %.3f  z: %.3f\" %(p[0],p[1],p[2]))\n",
    "    range = np.append(range,np.sqrt(p[0]**2+p[1]**2+p[2]**2))\n",
    "    x = np.append(x, p[0])\n",
    "    y = np.append(y, p[1])\n",
    "    z = np.append(z, p[2])"
   ]
  },
  {
   "cell_type": "code",
   "execution_count": null,
   "metadata": {},
   "outputs": [],
   "source": [
    "# Generator, Iterator, Iterable <- 중요해 jumpto 끄낸다음"
   ]
  },
  {
   "cell_type": "code",
   "execution_count": null,
   "metadata": {},
   "outputs": [],
   "source": [
    "gen"
   ]
  },
  {
   "cell_type": "code",
   "execution_count": null,
   "metadata": {
    "scrolled": false
   },
   "outputs": [],
   "source": [
    "# %matplotlib notebook\n",
    "import matplotlib.pyplot as plt\n",
    "# from mpl_toolkits.mplot3d import Axes3D\n",
    "\n",
    "\n",
    "range = np.sqrt(x**2 + y**2 + z**2)\n",
    "# range_xy = np.sqrt(x**2 + y**2)\n",
    "index = np.argmin(range)\n",
    "\n",
    "fig = plt.figure()\n",
    "plt.scatter(x, y)\n",
    "plt.show()\n",
    "# fig = plt.figure()\n",
    "# ax = fig.gca(projection ='3d')\n",
    "# ax = fig.add_subplot(111)\n",
    "# ax.scatter(x,y,z,marker = '.')\n",
    "# ax.scatter(x[index],y[index],z[index])\n",
    "# plt.show()\n",
    "# print(index)\n",
    "# print(range)"
   ]
  }
 ],
 "metadata": {
  "kernelspec": {
   "display_name": "Python 3",
   "language": "python",
   "name": "python3"
  },
  "language_info": {
   "codemirror_mode": {
    "name": "ipython",
    "version": 3
   },
   "file_extension": ".py",
   "mimetype": "text/x-python",
   "name": "python",
   "nbconvert_exporter": "python",
   "pygments_lexer": "ipython3",
   "version": "3.5.2"
  }
 },
 "nbformat": 4,
 "nbformat_minor": 4
}
